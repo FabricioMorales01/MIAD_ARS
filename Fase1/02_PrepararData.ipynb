{
 "cells": [
  {
   "cell_type": "markdown",
   "metadata": {},
   "source": [
    "# Preparar Datos"
   ]
  },
  {
   "cell_type": "code",
   "execution_count": 29,
   "metadata": {},
   "outputs": [],
   "source": [
    "import pandas as pd\n",
    "from geopy.geocoders import Nominatim"
   ]
  },
  {
   "cell_type": "code",
   "execution_count": 18,
   "metadata": {},
   "outputs": [
    {
     "name": "stdout",
     "output_type": "stream",
     "text": [
      "<class 'pandas.core.frame.DataFrame'>\n",
      "RangeIndex: 2211 entries, 0 to 2210\n",
      "Data columns (total 34 columns):\n",
      " #   Column                                        Non-Null Count  Dtype  \n",
      "---  ------                                        --------------  -----  \n",
      " 0   Organization Name                             2211 non-null   object \n",
      " 1   Headquarters Location                         2185 non-null   object \n",
      " 2   Operating Status                              2211 non-null   object \n",
      " 3   Company Type                                  1409 non-null   object \n",
      " 4   Number of Investments                         1494 non-null   float64\n",
      " 5   Number of Lead Investments                    1348 non-null   float64\n",
      " 6   Number of Diversity Investments               1059 non-null   float64\n",
      " 7   Number of Exits                               1207 non-null   float64\n",
      " 8   Number of Lead Investors                      1088 non-null   float64\n",
      " 9   Number of Investors                           1195 non-null   float64\n",
      " 10  Industry Groups                               2167 non-null   object \n",
      " 11  Industries                                    2167 non-null   object \n",
      " 12  Number of Funding Rounds                      1274 non-null   float64\n",
      " 13  Funding Status                                1131 non-null   object \n",
      " 14  Last Funding Date                             1274 non-null   object \n",
      " 15  Last Funding Amount                           1065 non-null   float64\n",
      " 16  Last Funding Amount Currency                  1065 non-null   object \n",
      " 17  Last Funding Amount Currency (in USD)         1065 non-null   float64\n",
      " 18  Last Funding Type                             1274 non-null   object \n",
      " 19  Last Equity Funding Type                      1213 non-null   object \n",
      " 20  Last Equity Funding Amount                    1011 non-null   float64\n",
      " 21  Last Equity Funding Amount Currency           1011 non-null   object \n",
      " 22  Last Equity Funding Amount Currency (in USD)  1011 non-null   float64\n",
      " 23  Total Funding Amount                          1205 non-null   float64\n",
      " 24  Total Funding Amount Currency                 1205 non-null   object \n",
      " 25  Total Funding Amount Currency (in USD)        1205 non-null   float64\n",
      " 26  Number of Events                              971 non-null    float64\n",
      " 27  SEMrush - Monthly Visits                      1950 non-null   float64\n",
      " 28  SEMrush - Average Visits (6 months)           1700 non-null   float64\n",
      " 29  SEMrush - Visit Duration                      1950 non-null   float64\n",
      " 30  Aberdeen - IT Spend                           576 non-null    float64\n",
      " 31  Aberdeen - IT Spend Currency                  579 non-null    object \n",
      " 32  Aberdeen - IT Spend Currency (in USD)         576 non-null    float64\n",
      " 33  Principales inversionistas                    1195 non-null   object \n",
      "dtypes: float64(19), object(15)\n",
      "memory usage: 587.4+ KB\n"
     ]
    }
   ],
   "source": [
    "df = pd.read_csv(\"./ARS_Base-inicial_MIAD.csv\", decimal='.', thousands=',')\n",
    "df.info()"
   ]
  },
  {
   "cell_type": "markdown",
   "metadata": {},
   "source": [
    "## 1. Limpiar Data"
   ]
  },
  {
   "cell_type": "markdown",
   "metadata": {},
   "source": [
    "### 1.1 Tomar columnas relevantes"
   ]
  },
  {
   "cell_type": "code",
   "execution_count": 19,
   "metadata": {},
   "outputs": [
    {
     "data": {
      "text/plain": [
       "20"
      ]
     },
     "execution_count": 19,
     "metadata": {},
     "output_type": "execute_result"
    }
   ],
   "source": [
    "df = df[['Organization Name', 'Headquarters Location', 'Operating Status',\n",
    "       'Company Type', 'Number of Investments', 'Number of Lead Investments',       \n",
    "       'Number of Diversity Investments', 'Number of Exits',\n",
    "       'Number of Lead Investors', 'Number of Investors',\n",
    "       # Necesitamos saber como usar estos campos\n",
    "       # 'Industry Groups', 'Industries',\n",
    "       'Number of Funding Rounds', 'Funding Status',\n",
    "       'Last Funding Date', \n",
    "       # Valores redundantes\n",
    "       # 'Last Funding Amount', 'Last Funding Amount Currency',\n",
    "       'Last Funding Amount Currency (in USD)',\n",
    "       'Last Funding Type', 'Last Equity Funding Type',\n",
    "       # Valores redundantes\n",
    "       # 'Last Equity Funding Amount', 'Last Equity Funding Amount Currency',\n",
    "       'Last Equity Funding Amount Currency (in USD)',\n",
    "       # Valores redundantes\n",
    "       # 'Total Funding Amount', 'Total Funding Amount Currency',\n",
    "       'Total Funding Amount Currency (in USD)', 'Number of Events',\n",
    "       # Se necesita entender estos valores y como convertirlos\n",
    "       # 'SEMrush - Monthly Visits', 'SEMrush - Average Visits (6 months)', 'SEMrush - Visit Duration', \n",
    "       # Valores redundantes\n",
    "       # 'Aberdeen - IT Spend', 'Aberdeen - IT Spend Currency',\n",
    "       'Aberdeen - IT Spend Currency (in USD)',\n",
    "       # Utilizado para hacer arcos\n",
    "       # 'Principales inversionistas'\n",
    "    ]]\n",
    "\n",
    "len(df.columns)"
   ]
  },
  {
   "cell_type": "code",
   "execution_count": 20,
   "metadata": {},
   "outputs": [
    {
     "data": {
      "text/plain": [
       "Index(['Organization Name', 'Headquarters Location', 'Operating Status',\n",
       "       'Company Type', 'Number of Investments', 'Number of Lead Investments',\n",
       "       'Number of Diversity Investments', 'Number of Exits',\n",
       "       'Number of Lead Investors', 'Number of Investors',\n",
       "       'Number of Funding Rounds', 'Funding Status', 'Last Funding Date',\n",
       "       'Last Funding Amount', 'Last Funding Type', 'Last Equity Funding Type',\n",
       "       'Last Equity Funding Amount', 'Total Funding Amount',\n",
       "       'Number of Events', 'Aberdeen - IT Spend'],\n",
       "      dtype='object')"
      ]
     },
     "execution_count": 20,
     "metadata": {},
     "output_type": "execute_result"
    }
   ],
   "source": [
    "df.rename(columns={\n",
    "    'Last Funding Amount Currency (in USD)': 'Last Funding Amount',\n",
    "    'Last Equity Funding Amount Currency (in USD)': 'Last Equity Funding Amount',\n",
    "    'Total Funding Amount Currency (in USD)': 'Total Funding Amount',\n",
    "    'Aberdeen - IT Spend Currency (in USD)': 'Aberdeen - IT Spend'\n",
    "}, inplace=True)\n",
    "\n",
    "df.columns"
   ]
  },
  {
   "cell_type": "markdown",
   "metadata": {},
   "source": [
    "### 1.2 Reemplazar valor null "
   ]
  },
  {
   "cell_type": "code",
   "execution_count": 21,
   "metadata": {},
   "outputs": [],
   "source": [
    "# Campos númericos\n",
    "\n",
    "numeric_columns = df.select_dtypes(include='number')\n",
    "numeric_columns_filled = numeric_columns.fillna(0)\n",
    "df[numeric_columns_filled.columns] = numeric_columns_filled"
   ]
  },
  {
   "cell_type": "code",
   "execution_count": 22,
   "metadata": {},
   "outputs": [],
   "source": [
    "df['Headquarters Location'] = df['Headquarters Location'].fillna('None, None, None')\n",
    "df['Company Type'] = df['Company Type'].fillna('Non Profit')"
   ]
  },
  {
   "cell_type": "code",
   "execution_count": 23,
   "metadata": {},
   "outputs": [
    {
     "name": "stdout",
     "output_type": "stream",
     "text": [
      "<class 'pandas.core.frame.DataFrame'>\n",
      "RangeIndex: 2211 entries, 0 to 2210\n",
      "Data columns (total 20 columns):\n",
      " #   Column                           Non-Null Count  Dtype  \n",
      "---  ------                           --------------  -----  \n",
      " 0   Organization Name                2211 non-null   object \n",
      " 1   Headquarters Location            2211 non-null   object \n",
      " 2   Operating Status                 2211 non-null   object \n",
      " 3   Company Type                     2211 non-null   object \n",
      " 4   Number of Investments            2211 non-null   float64\n",
      " 5   Number of Lead Investments       2211 non-null   float64\n",
      " 6   Number of Diversity Investments  2211 non-null   float64\n",
      " 7   Number of Exits                  2211 non-null   float64\n",
      " 8   Number of Lead Investors         2211 non-null   float64\n",
      " 9   Number of Investors              2211 non-null   float64\n",
      " 10  Number of Funding Rounds         2211 non-null   float64\n",
      " 11  Funding Status                   1131 non-null   object \n",
      " 12  Last Funding Date                1274 non-null   object \n",
      " 13  Last Funding Amount              2211 non-null   float64\n",
      " 14  Last Funding Type                1274 non-null   object \n",
      " 15  Last Equity Funding Type         1213 non-null   object \n",
      " 16  Last Equity Funding Amount       2211 non-null   float64\n",
      " 17  Total Funding Amount             2211 non-null   float64\n",
      " 18  Number of Events                 2211 non-null   float64\n",
      " 19  Aberdeen - IT Spend              2211 non-null   float64\n",
      "dtypes: float64(12), object(8)\n",
      "memory usage: 345.6+ KB\n"
     ]
    }
   ],
   "source": [
    "df.info()"
   ]
  },
  {
   "cell_type": "markdown",
   "metadata": {},
   "source": [
    "### 1.3 Dividir location"
   ]
  },
  {
   "cell_type": "code",
   "execution_count": 24,
   "metadata": {},
   "outputs": [],
   "source": [
    "df1 = df.copy()\n",
    "split_columns = df['Headquarters Location'].str.split(',', expand=True)\n",
    "df1[['City', 'State', 'Country']] = split_columns[[0, 1, 2]]\n",
    "_ = df1.drop(columns=['Headquarters Location'], inplace=True)"
   ]
  },
  {
   "cell_type": "code",
   "execution_count": 25,
   "metadata": {},
   "outputs": [],
   "source": [
    "### 1.4 Convertir el nombre de la organización en label e Id"
   ]
  },
  {
   "cell_type": "code",
   "execution_count": 26,
   "metadata": {},
   "outputs": [
    {
     "data": {
      "text/plain": [
       "Index(['Id', 'Label', 'City', 'State', 'Country', 'Operating Status',\n",
       "       'Company Type', 'Number of Investments', 'Number of Lead Investments',\n",
       "       'Number of Diversity Investments', 'Number of Exits',\n",
       "       'Number of Lead Investors', 'Number of Investors',\n",
       "       'Number of Funding Rounds', 'Funding Status', 'Last Funding Date',\n",
       "       'Last Funding Amount', 'Last Funding Type', 'Last Equity Funding Type',\n",
       "       'Last Equity Funding Amount', 'Total Funding Amount',\n",
       "       'Number of Events', 'Aberdeen - IT Spend'],\n",
       "      dtype='object')"
      ]
     },
     "execution_count": 26,
     "metadata": {},
     "output_type": "execute_result"
    }
   ],
   "source": [
    "df = df1\n",
    "df.rename(columns={'Organization Name': 'Id'}, inplace=True)\n",
    "df['Label'] = df['Id']\n",
    "\n",
    "# Reordena valores\n",
    "columns = df.columns.tolist()\n",
    "first_cols = ['Id', 'Label', 'City', 'State', 'Country']\n",
    "new_order = first_cols + [col for col in columns if col not in first_cols]\n",
    "df = df[new_order]\n",
    "df.columns"
   ]
  },
  {
   "cell_type": "markdown",
   "metadata": {},
   "source": [
    "### 1.5 Obtener Lat y Long para la ubicación"
   ]
  },
  {
   "cell_type": "code",
   "execution_count": 62,
   "metadata": {},
   "outputs": [],
   "source": [
    "loc = Nominatim(user_agent=\"Geopy Library\")\n",
    "dic_country = {}\n",
    "dic_states = {}\n",
    "dic_cities = {}\n",
    "# entering the location name\n",
    "\n",
    "def get_coor(dir, dic):\n",
    "    coor = None\n",
    "    if dir in dic:\n",
    "        coor = dic[dir]\n",
    "    else:\n",
    "        l = loc.geocode(dir)\n",
    "        if (l):\n",
    "            coor = l.latitude, l.longitude\n",
    "            dic[dir] = coor\n",
    "        else:\n",
    "            print('Dir no encontrada', dir, l)\n",
    "\n",
    "    return coor"
   ]
  },
  {
   "cell_type": "markdown",
   "metadata": {},
   "source": [
    "#### Coordenadas de país"
   ]
  },
  {
   "cell_type": "code",
   "execution_count": 55,
   "metadata": {},
   "outputs": [],
   "source": [
    "df1 = df\n",
    "df1[['Lat Country', 'Long Country']] = df1['Country'].apply(lambda x: pd.Series(get_coor(x, dic_country)))\n",
    "# df1[0:2]['Country'].apply(lambda x: pd.Series(get_coor(x, dic_country)))\n"
   ]
  },
  {
   "cell_type": "markdown",
   "metadata": {},
   "source": [
    "#### Coordenadas de estado"
   ]
  },
  {
   "cell_type": "code",
   "execution_count": 63,
   "metadata": {},
   "outputs": [
    {
     "name": "stdout",
     "output_type": "stream",
     "text": [
      "Dir no encontrada  South Korea,  Seoul-t'ukpyolsi None\n",
      "Dir no encontrada  South Korea,  Seoul-t'ukpyolsi None\n",
      "Dir no encontrada  Slovenia,  Ljubljana Urban Commune None\n",
      "Dir no encontrada  South Korea,  Seoul-t'ukpyolsi None\n",
      "Dir no encontrada  South Korea,  Seoul-t'ukpyolsi None\n",
      "Dir no encontrada  South Korea,  Seoul-t'ukpyolsi None\n",
      "Dir no encontrada  South Korea,  Kyonggi-do None\n",
      "Dir no encontrada  South Korea,  Seoul-t'ukpyolsi None\n",
      "Dir no encontrada  South Korea,  Kyonggi-do None\n",
      "Dir no encontrada  South Korea,  Seoul-t'ukpyolsi None\n",
      "Dir no encontrada  South Korea,  Seoul-t'ukpyolsi None\n",
      "Dir no encontrada  Qatar,  Ad Dawhah None\n",
      "Dir no encontrada  South Korea,  Seoul-t'ukpyolsi None\n",
      "Dir no encontrada  South Korea,  Seoul-t'ukpyolsi None\n",
      "Dir no encontrada  South Korea,  Seoul-t'ukpyolsi None\n"
     ]
    }
   ],
   "source": [
    "df = df1\n",
    "\n",
    "states = df['Country'].astype(str) + \", \" + df['State'].astype(str)\n",
    "df[['Lat State', 'Long State']] = states.apply(lambda x: pd.Series(get_coor(x, dic_states)))"
   ]
  },
  {
   "cell_type": "markdown",
   "metadata": {},
   "source": [
    "Se ajustan nombres de estado"
   ]
  },
  {
   "cell_type": "code",
   "execution_count": 76,
   "metadata": {},
   "outputs": [],
   "source": [
    "df1 = df\n",
    "\n",
    "to_replace = {\n",
    "    \" Seoul-t'ukpyolsi\": \"Seoul\",\n",
    "    \" Ljubljana Urban Commune\": \"Ljubljana\",\n",
    "    \" Kyonggi-do\": \"Gyeonggi-do\",\n",
    "    \" Ad Dawhah\": \"Doha\"\n",
    "\n",
    "}\n",
    "df1['State'].replace(to_replace, inplace=True)\n",
    "\n",
    "states =  df1['State'].astype(str) + \", \" + df1['Country'].astype(str)\n",
    "df1[['Lat State', 'Long State']] = states.apply(lambda x: pd.Series(get_coor(x, dic_states)))\n",
    "\n"
   ]
  },
  {
   "cell_type": "markdown",
   "metadata": {},
   "source": [
    "#### Coordenadas de ciudad"
   ]
  },
  {
   "cell_type": "markdown",
   "metadata": {},
   "source": [
    "### 1.6 Guardar xls"
   ]
  },
  {
   "cell_type": "code",
   "execution_count": 80,
   "metadata": {},
   "outputs": [],
   "source": [
    "df1.to_excel(\"nodos_limpios.xlsx\", index=False)"
   ]
  }
 ],
 "metadata": {
  "kernelspec": {
   "display_name": "tf",
   "language": "python",
   "name": "python3"
  },
  "language_info": {
   "codemirror_mode": {
    "name": "ipython",
    "version": 3
   },
   "file_extension": ".py",
   "mimetype": "text/x-python",
   "name": "python",
   "nbconvert_exporter": "python",
   "pygments_lexer": "ipython3",
   "version": "3.9.16"
  }
 },
 "nbformat": 4,
 "nbformat_minor": 2
}
