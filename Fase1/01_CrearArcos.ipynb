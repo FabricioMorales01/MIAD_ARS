{
  "cells": [
    {
      "cell_type": "markdown",
      "metadata": {},
      "source": [
        "# Crear arcos"
      ]
    },
    {
      "cell_type": "code",
      "execution_count": null,
      "metadata": {
        "id": "tHT_RywZuA1q"
      },
      "outputs": [],
      "source": [
        "import pandas as pd\n",
        "\n",
        "# Leemos el archivo de Excel\n",
        "df = pd.read_excel(\"inversionistas.xlsx\")\n",
        "\n",
        "# Convertimos la columna \"Principales Inversionistas\" en una lista\n",
        "inversionistas_lista = df[\"Principales Inversionistas\"].tolist()\n",
        "\n",
        "# Creamos una lista vacía para almacenar las parejas\n",
        "pares_inversionistas = []\n",
        "\n",
        "# Recorremos la lista de \"Principales Inversionistas\"\n",
        "for inversionista in inversionistas_lista:\n",
        "    # Separamos los valores por comas\n",
        "    valores_separados = inversionista.split(\",\")\n",
        "    # Creamos una pareja para cada valor separado\n",
        "    for valor in valores_separados:\n",
        "        pares_inversionistas.append([df[\"Organization Name\"][0], valor.strip()])\n",
        "\n",
        "# Creamos un nuevo DataFrame con las parejas\n",
        "df_nuevo = pd.DataFrame(pares_inversionistas, columns=[\"Organization Name\", \"Principal Inversionista\"])\n",
        "\n",
        "# Guardamos el nuevo DataFrame en un archivo de Excel\n",
        "df_nuevo.to_excel(\"inversionistas_pares.xlsx\")\n"
      ]
    }
  ],
  "metadata": {
    "colab": {
      "provenance": []
    },
    "kernelspec": {
      "display_name": "tf",
      "language": "python",
      "name": "python3"
    },
    "language_info": {
      "codemirror_mode": {
        "name": "ipython",
        "version": 3
      },
      "file_extension": ".py",
      "mimetype": "text/x-python",
      "name": "python",
      "nbconvert_exporter": "python",
      "pygments_lexer": "ipython3",
      "version": "3.9.16"
    }
  },
  "nbformat": 4,
  "nbformat_minor": 0
}
